{
 "cells": [
  {
   "cell_type": "code",
   "execution_count": 149,
   "id": "64472b81-93e9-4bf7-a5b8-5f88eb4a78ae",
   "metadata": {},
   "outputs": [],
   "source": [
    "# Calculating Price of call options via discounting to present value at terminal/expirational boundary and black scholes formula\n",
    "\n",
    "\n",
    "\n",
    "#Input parameters\n",
    "import numpy as np\n",
    "from scipy.stats import norm\n",
    "\n",
    "S_0= 100  #initial stock price at t=0\n",
    "sigma = 0.2  # volatility\n",
    "mu = 0.05    # turns to r when in risk neutral (Q) measure\n",
    "dt = 0.01    # delta t or change in time between periods\n",
    "T = 1        # Final time (T) terminal/boundary time\n",
    "steps_t = T/dt  #\n",
    "N = 1000 #number simulations from initial point of S_0\n"
   ]
  },
  {
   "cell_type": "code",
   "execution_count": 167,
   "id": "233dfdd2-652b-4241-84a9-8855b0f41aad",
   "metadata": {},
   "outputs": [],
   "source": [
    "R = np.zeros((N, int(steps_t+1)))\n",
    "\n",
    "# stock price at S_0 = 100, initial point for all 1000 paths\n",
    "R[:,0]=S_0\n",
    "\n",
    "\n",
    "for t in range(1, int(steps_t + 1)):\n",
    "\n",
    "    Z = np.random.randn(N)\n",
    "    for i in range(N):\n",
    "\n",
    "        # Evolution of stock price for every step in time. Stochastic \"drift\" implemented via \"Z[i]\" term\n",
    "        R[i, t] = R[i, t-1] * np.exp(-0.5 * sigma**2 * dt + sigma * np.sqrt(dt) * Z[i])\n"
   ]
  },
  {
   "cell_type": "code",
   "execution_count": 169,
   "id": "57213708-e95b-4d80-bfca-183c62533114",
   "metadata": {},
   "outputs": [
    {
     "name": "stdout",
     "output_type": "stream",
     "text": [
      "Simulated Call Price: 8.070419613488843\n",
      "Black Scholes Call Price: 7.965567455405804\n"
     ]
    }
   ],
   "source": [
    "# 1 a): \n",
    "k=100 #strike price\n",
    "r=0   # risk free rate = 0 \n",
    "\n",
    "\n",
    "# Profit at time (T) is \n",
    "profit=R[:,-1]-k\n",
    "\n",
    "# all stock prices at time (T) less than strike price render the option \"worthless\"\n",
    "#profit for the call option in the scenario that S_T is greater than k\n",
    "call_profit_sim = np.maximum(profit,0)\n",
    "\n",
    "#calculate the average profit of all 1000 stock paths and discount to present to get call price\n",
    "call_price_sim = np.mean(call_profit_sim)*np.exp(-r*T)\n",
    "\n",
    "#Black Scholes method\n",
    "d1=(np.log(S_0/k) + (r+0.5*sigma**2)*T) / (sigma*np.sqrt(T))\n",
    "d2 = d1 - sigma * np.sqrt(T)\n",
    "BS_call = S_0*norm.cdf(d1) - k*np.exp(-r*T) * norm.cdf(d2)\n",
    "\n",
    "print(f\"Simulated Call Price: {call_price_sim:}\")\n",
    "print(f\"Black Scholes Call Price: {BS_call:}\")"
   ]
  },
  {
   "cell_type": "code",
   "execution_count": 171,
   "id": "40dc487c-c50c-4b94-b19a-f171d19e8c90",
   "metadata": {},
   "outputs": [
    {
     "name": "stdout",
     "output_type": "stream",
     "text": [
      "Europen (Asian Style) Call Price: 4.637228655930266\n"
     ]
    }
   ],
   "source": [
    "# Payoff of an Europeon \"Asian\" Option\n",
    "\n",
    "# Asian Style: \"boundary\" stock price is the average price over specified time period\n",
    "row_mean = np.mean(R, axis=1)\n",
    "\n",
    "#profit for the call option in the scenario that S_T is greater than k\n",
    "average_payoff_asian = np.maximum(row_mean-k,0)\n",
    "\n",
    "\n",
    "#calculate the average profit of all 1000 stock paths and discount to present to get call price\n",
    "asian_call_price=np.mean(average_payoff_asian)*np.exp(-r*T)\n",
    "print(f\"Europen (Asian Style) Call Price: {asian_call_price:}\")"
   ]
  },
  {
   "cell_type": "code",
   "execution_count": null,
   "id": "aff91a83-1697-4d6b-9a0e-b004793ab51e",
   "metadata": {},
   "outputs": [],
   "source": []
  },
  {
   "cell_type": "code",
   "execution_count": null,
   "id": "21bc1f15-dff2-43b6-819b-8ab68f37e31e",
   "metadata": {},
   "outputs": [],
   "source": []
  },
  {
   "cell_type": "code",
   "execution_count": null,
   "id": "5d6b1c4d-514e-40e3-a0a4-6baf0f628c59",
   "metadata": {},
   "outputs": [],
   "source": []
  }
 ],
 "metadata": {
  "kernelspec": {
   "display_name": "Python 3 (ipykernel)",
   "language": "python",
   "name": "python3"
  },
  "language_info": {
   "codemirror_mode": {
    "name": "ipython",
    "version": 3
   },
   "file_extension": ".py",
   "mimetype": "text/x-python",
   "name": "python",
   "nbconvert_exporter": "python",
   "pygments_lexer": "ipython3",
   "version": "3.12.3"
  }
 },
 "nbformat": 4,
 "nbformat_minor": 5
}
